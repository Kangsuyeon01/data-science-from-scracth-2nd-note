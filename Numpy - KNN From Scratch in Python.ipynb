{
 "cells": [
  {
   "cell_type": "markdown",
   "metadata": {
    "colab_type": "text",
    "id": "JwXVP87OO6RW"
   },
   "source": [
    "#  IDEA LAB 5th Weekly Seminar Conference Code File\n",
    "## Numpy - KNN From Scratch in Python\n",
    "<h3> Writer: Su-Yeon Kang </h3>\n",
    "\n",
    "부연 설명: 기존의 'KNN From Scratch in Python' 코드에서는 판다스를 이용해서 공분산을 구하였고,\n",
    "해당 코드에서는 넘파이를 이용하여 공분산을 구한 점에서 차이가 있습니다.\n",
    "\n",
    "### 2022.08.02 ###\n"
   ]
  },
  {
   "cell_type": "code",
   "execution_count": 30,
   "metadata": {
    "colab": {},
    "colab_type": "code",
    "id": "k-o8zDSkO6RZ"
   },
   "outputs": [],
   "source": [
    "%matplotlib inline\n",
    "import numpy as np\n",
    "import matplotlib.pyplot as plt"
   ]
  },
  {
   "cell_type": "markdown",
   "metadata": {
    "colab_type": "text",
    "id": "-xLXSgg4O6Rd"
   },
   "source": [
    "<h1>KNN Algorithm</h1>\n",
    "유형: 지도학습\n",
    "\n",
    "분류 항목을 이미 알고 있는 데이터 집합에서 상위 K개의 가장 유사한 데이터를 살펴보고, \n",
    "\n",
    "K개의 가장 유사한 데이터들 중 다수결(majority vote)를 통해 새로운 데이터의 분류 항목을 결정하는 알고리즘"
   ]
  },
  {
   "cell_type": "markdown",
   "metadata": {
    "colab_type": "text",
    "id": "34r66vr2O6Re"
   },
   "source": [
    "## 예제 데이터 )  영화 분석 결과\n"
   ]
  },
  {
   "cell_type": "markdown",
   "metadata": {
    "colab_type": "text",
    "id": "UvPQnmcgyKzr"
   },
   "source": [
    "\n",
    "#### 데이터 ) 각 영화 별 싸움 횟수와 키스 횟수\n",
    "\n",
    "| 영화 제목 | the number of Kick | The number os Kiss | Type |\n",
    "| ------  | ----| ----| --- |\n",
    "| 냉정과열정사이 | 3 | 104 | Romance|\n",
    "| 바람과함께사라지다 | 2 | 100 | Romance |\n",
    "| 아름다운 여인 | 1 | 81 | Romance |\n",
    "| 인정사정볼것없다 | 101 | 10 | Action |\n",
    "| 놈놈놈 | 99 | 5 | Action |\n",
    "| 화랑 | 98 | 2 | Action |\n",
    "| 뜨거운 가슴으로 | 25 | 87 | ? |"
   ]
  },
  {
   "cell_type": "code",
   "execution_count": 57,
   "metadata": {
    "colab": {
     "base_uri": "https://localhost:8080/",
     "height": 228
    },
    "colab_type": "code",
    "executionInfo": {
     "elapsed": 375,
     "status": "ok",
     "timestamp": 1551671291404,
     "user": {
      "displayName": "최선열",
      "photoUrl": "",
      "userId": "00663027191814710813"
     },
     "user_tz": -540
    },
    "id": "WrSWb4HgO6Rf",
    "outputId": "08a25e9e-2e34-4884-b203-7536c019feac",
    "scrolled": true
   },
   "outputs": [
    {
     "name": "stdout",
     "output_type": "stream",
     "text": [
      "[[  3 104]\n",
      " [  2 100]\n",
      " [  1  81]\n",
      " [101  10]\n",
      " [ 99   5]\n",
      " [ 98   2]]\n",
      "['Romance' 'Romance' 'Romance' 'Action' 'Action' 'Action']\n"
     ]
    }
   ],
   "source": [
    "# 0번째 열 : 킥 횟수, 1번째 열 : 키스 횟수\n",
    "\n",
    "dataset = np.array([\n",
    "    [3, 104],\n",
    "    [2, 100],\n",
    "    [1, 81],\n",
    "    [101, 10],\n",
    "    [99, 5],\n",
    "    [98, 2],\n",
    "])\n",
    "\n",
    "labels = np.array(['Romance','Romance','Romance',\n",
    "          'Action','Action','Action'])\n",
    "\n",
    "inX = np.array([25, 87]) # 새로운 데이터\n",
    "\n",
    "print(dataset)\n",
    "print(labels)"
   ]
  },
  {
   "cell_type": "code",
   "execution_count": 58,
   "metadata": {},
   "outputs": [],
   "source": [
    "def desclibing(dataset, inX):\n",
    "    plt.title(\"The Category of Movie\")\n",
    "    plt.scatter(dataset[:3,0],dataset[:3,1],label='Romance',\n",
    "                c='g')\n",
    "    plt.scatter(dataset[3:,0],dataset[3:,1],label='Action',\n",
    "                c='r')\n",
    "    plt.scatter(inX[0],inX[1],label=\"new_data\",\n",
    "                c='b')\n",
    "    \n",
    "\n",
    "    plt.xlabel('The number of Kick')\n",
    "    plt.ylabel('The number of Kiss')\n",
    "    plt.legend()\n",
    "    plt.show()"
   ]
  },
  {
   "cell_type": "code",
   "execution_count": 59,
   "metadata": {},
   "outputs": [
    {
     "data": {
      "image/png": "[encoded data removed]",
      "text/plain": [
       "<Figure size 432x288 with 1 Axes>"
      ]
     },
     "metadata": {
      "needs_background": "light"
     },
     "output_type": "display_data"
    }
   ],
   "source": [
    "desclibing(dataset, inX)"
   ]
  },
  {
   "cell_type": "markdown",
   "metadata": {},
   "source": [
    "파란 색의 경우는 어느 카테고리에 속할까요? 이 두 가지 특징 \"킥 횟수\"와 \"키스 횟수\"로 미루어 판단하건대, Romance에 가까운 작품으로 판단됩니다. 이를 좀 더 정량적으로 판단하면, 자기의 값과 비슷한, 인근 K개(임의의 수, 보통 20개 미만)의 데이터를 뽑아오고, 그 중에서 다수결을 통해 새로운 데이터의 분류 항목을 결정할 수 있을 것입니다. 이러한 분류 방법을 K-NN이라고 합니다. "
   ]
  },
  {
   "cell_type": "markdown",
   "metadata": {
    "colab_type": "text",
    "id": "ElsyQ5ceO6Se"
   },
   "source": [
    "#  KNN 구현 순서\n",
    "\n",
    "KNN의 알고리즘 순서는 다음과 같습니다. \n",
    "\n",
    "1. 우리가 분류항목을 알고자 하는 점(inX)와 알고 있는 점들(dataset)과의 모든 점 거리를 계산\n",
    "2. 오름 차순으로 거리의 길이를 정렬\n",
    "3. inX와의 거리가 가장 짧은 K개의 아이템 추출\n",
    "4. K개의 아이템에서 가장 많은 분류 항목 찾기\n",
    "5. 해당 항목 반환\n"
   ]
  },
  {
   "cell_type": "markdown",
   "metadata": {},
   "source": [
    "## 1. KNN 거리 공식 작성"
   ]
  },
  {
   "cell_type": "markdown",
   "metadata": {},
   "source": [
    "<h3>- 우리가 분류항목을 알고자 하는 점 (inX)와 알고 있는 점들(dataset)과의 모든 점 거리를 계산</h3>\n",
    "\n",
    "\n",
    "거리공식은 유클리드 거리, 맨해튼 거리, 마할라노비스 거리를 구현하였습니다."
   ]
  },
  {
   "attachments": {
    "image.png": {
     "image/png": "[encoded data removed]"
    }
   },
   "cell_type": "markdown",
   "metadata": {},
   "source": [
    "Euclidean Distance\n",
    "![image.png](attachment:image.png)"
   ]
  },
  {
   "cell_type": "code",
   "execution_count": 60,
   "metadata": {},
   "outputs": [],
   "source": [
    "def Euclidean_Distance(dataset, inX):\n",
    "    data_distance = []\n",
    "    for i in range(len(dataset)):\n",
    "        data_distance.append(np.sqrt((dataset[i][0] - inX[0])**2 + (dataset[i][1] - inX[1])**2 ))\n",
    "    return data_distance"
   ]
  },
  {
   "attachments": {
    "image.png": {
     "image/png": "[encoded data removed]"
    }
   },
   "cell_type": "markdown",
   "metadata": {},
   "source": [
    "Manhattan Distance\n",
    "![image.png](attachment:image.png)"
   ]
  },
  {
   "cell_type": "code",
   "execution_count": 61,
   "metadata": {},
   "outputs": [],
   "source": [
    "def Manhattan_Distance(dataset, inX):\n",
    "    data_distance = []\n",
    "    for i in range(len(dataset)):\n",
    "        data_distance.append(np.abs((dataset[i][0] - inX[0]) + (dataset[i][1] - inX[1])))\n",
    "    return data_distance"
   ]
  },
  {
   "attachments": {
    "image.png": {
     "image/png": "[encoded data removed]"
    }
   },
   "cell_type": "markdown",
   "metadata": {},
   "source": [
    "마할라노비스 거리 공식\n",
    "![image.png](attachment:image.png)"
   ]
  },
  {
   "cell_type": "code",
   "execution_count": 86,
   "metadata": {},
   "outputs": [],
   "source": [
    "def Mahalanobis_Distance(dataset, inX):\n",
    "    # 기존의 데이터와 예측할 데이터를 포함하여 공분산 구하기\n",
    "    new_dataset = np.concatenate((dataset,[inX]),axis= 0)\n",
    "\n",
    "    a = new_dataset[:,0]\n",
    "    b = new_dataset[:,1]\n",
    "    cov_metrix= np.cov(a,b)\n",
    "\n",
    "    # 공분산 행렬의 역행렬\n",
    "    inverse_cov_metrix = np.linalg.inv(cov_metrix)\n",
    "    \n",
    "    dist = []\n",
    "    for i in range(len(dataset)):\n",
    "        delta = np.array([dataset[i][0] - inX[0], dataset[i][1] - inX[1]])\n",
    "        delta_T = np.transpose(delta)\n",
    "        cal1 = np.dot(delta,inverse_cov_metrix)\n",
    "        cal2 = np.dot(cal1,delta_T)\n",
    "        D_squre = np.sqrt(cal2)\n",
    "        dist.append(D_squre)\n",
    "    return dist"
   ]
  },
  {
   "cell_type": "code",
   "execution_count": 90,
   "metadata": {},
   "outputs": [
    {
     "data": {
      "text/plain": [
       "[27.80287754891569,\n",
       " 26.419689627245813,\n",
       " 24.73863375370596,\n",
       " 108.18964830333815,\n",
       " 110.45361017187261,\n",
       " 112.0446339634344]"
      ]
     },
     "execution_count": 90,
     "metadata": {},
     "output_type": "execute_result"
    }
   ],
   "source": [
    "Euclidean_Distance(dataset, inX)"
   ]
  },
  {
   "cell_type": "code",
   "execution_count": 91,
   "metadata": {},
   "outputs": [
    {
     "data": {
      "text/plain": [
       "[5, 10, 30, 1, 8, 12]"
      ]
     },
     "execution_count": 91,
     "metadata": {},
     "output_type": "execute_result"
    }
   ],
   "source": [
    "Manhattan_Distance(dataset, inX)"
   ]
  },
  {
   "cell_type": "code",
   "execution_count": 92,
   "metadata": {},
   "outputs": [
    {
     "data": {
      "text/plain": [
       "[0.5788633064089691,\n",
       " 1.0020806958930701,\n",
       " 3.0128310730703096,\n",
       " 1.653894797100614,\n",
       " 2.007084575299957,\n",
       " 2.2900275049546033]"
      ]
     },
     "execution_count": 92,
     "metadata": {},
     "output_type": "execute_result"
    }
   ],
   "source": [
    "Mahalanobis_Distance(dataset, inX)"
   ]
  },
  {
   "cell_type": "markdown",
   "metadata": {},
   "source": [
    "##  2. KNN 알고리즘 작성"
   ]
  },
  {
   "cell_type": "code",
   "execution_count": 93,
   "metadata": {},
   "outputs": [],
   "source": [
    "def classify_knn(dists,dataset, inX,labels, K):\n",
    "    print(dists)\n",
    "    sorted_index = np.argsort(dists)\n",
    "    sorted_labels = np.array(labels[sorted_index[:]])\n",
    "    K_nearest_labels = sorted_labels[:K]\n",
    "    count_dict = {}\n",
    "    for label in K_nearest_labels:\n",
    "        count_dict[label] = count_dict.get(label,0) + 1\n",
    "        _labels, count_labels = np.array(list(count_dict.keys())), np.array(list(count_dict.values()))\n",
    "    result = _labels[count_labels.argmax()]\n",
    "    return desclibing(dataset, inX,result),result"
   ]
  },
  {
   "cell_type": "code",
   "execution_count": 94,
   "metadata": {},
   "outputs": [],
   "source": [
    "# KNN을 COUNTER 모듈을 이용하여 구현\n",
    "from collections import Counter\n",
    "\n",
    "def classify_knn_Counter(dists,dataset, inX,labels, K):\n",
    "    print(dists)\n",
    "    sorted_index = np.argsort(dists) # 거리가 짧은 곳의 인덱스를 오름차순으로 정렬\n",
    "    sorted_labels = np.array(labels[sorted_index[:]]) # 해당 인덱스에 해당 레이블 입력\n",
    "    K_nearest_labels = sorted_labels[:K] # 가까운 K개만 추출\n",
    "    count = Counter(K_nearest_labels)# 가장 많은 요소 추출\n",
    "    result = max(count, key=count.get)\n",
    "    return desclibing(dataset, inX,result),result"
   ]
  },
  {
   "cell_type": "markdown",
   "metadata": {},
   "source": [
    "시각화"
   ]
  },
  {
   "cell_type": "code",
   "execution_count": 95,
   "metadata": {},
   "outputs": [],
   "source": [
    "def desclibing(dataset, inX,label):\n",
    "    plt.title(\"The Category of Movie\")\n",
    "    plt.scatter(dataset[:3,0],dataset[:3,1],label='Romance',\n",
    "                c='g')\n",
    "    plt.scatter(dataset[3:,0],dataset[3:,1],label='Action',\n",
    "                c='r')\n",
    "    if label == 'Romance':\n",
    "        plt.scatter(inX[0],inX[1],label=\"new_data\",\n",
    "                c='g')\n",
    "    elif label == 'Action':\n",
    "        plt.scatter(inX[0],inX[1],label=\"new_data\",\n",
    "                c='r')\n",
    "    \n",
    "\n",
    "    plt.xlabel('The number of Kick')\n",
    "    plt.ylabel('The number of Kiss')\n",
    "    plt.legend()\n",
    "    plt.show()"
   ]
  },
  {
   "cell_type": "markdown",
   "metadata": {},
   "source": [
    "<h2> 3. 구현 결과 </h2>"
   ]
  },
  {
   "cell_type": "code",
   "execution_count": 96,
   "metadata": {},
   "outputs": [],
   "source": [
    "# 킥 횟수가 52번, 키스 횟수가 10번인 작품\n",
    "k = 4\n",
    "inX = [52, 10]\n",
    "dists_EUC = Euclidean_Distance(dataset, inX)\n",
    "dists_MAN = Manhattan_Distance(dataset, inX)\n",
    "dists_MAH = Mahalanobis_Distance(dataset, inX)"
   ]
  },
  {
   "cell_type": "code",
   "execution_count": 97,
   "metadata": {},
   "outputs": [
    {
     "name": "stdout",
     "output_type": "stream",
     "text": [
      "[106.00471687618433, 102.95630140987001, 87.41853350405736, 49.0, 47.265209192385896, 46.69047011971501]\n"
     ]
    },
    {
     "data": {
      "image/png": "[encoded data removed]",
      "text/plain": [
       "<Figure size 432x288 with 1 Axes>"
      ]
     },
     "metadata": {
      "needs_background": "light"
     },
     "output_type": "display_data"
    },
    {
     "name": "stdout",
     "output_type": "stream",
     "text": [
      "[106.00471687618433, 102.95630140987001, 87.41853350405736, 49.0, 47.265209192385896, 46.69047011971501]\n"
     ]
    },
    {
     "data": {
      "image/png": "[encoded data removed]",
      "text/plain": [
       "<Figure size 432x288 with 1 Axes>"
      ]
     },
     "metadata": {
      "needs_background": "light"
     },
     "output_type": "display_data"
    },
    {
     "data": {
      "text/plain": [
       "(None, 'Action')"
      ]
     },
     "execution_count": 97,
     "metadata": {},
     "output_type": "execute_result"
    }
   ],
   "source": [
    "classify_knn_Counter(dists_EUC,dataset,inX, labels, k) \n",
    "classify_knn(dists_EUC,dataset,inX, labels, k) "
   ]
  },
  {
   "cell_type": "code",
   "execution_count": 98,
   "metadata": {},
   "outputs": [
    {
     "name": "stdout",
     "output_type": "stream",
     "text": [
      "[45, 40, 20, 49, 42, 38]\n"
     ]
    },
    {
     "data": {
      "image/png": "[encoded data removed]",
      "text/plain": [
       "<Figure size 432x288 with 1 Axes>"
      ]
     },
     "metadata": {
      "needs_background": "light"
     },
     "output_type": "display_data"
    },
    {
     "data": {
      "text/plain": [
       "(None, 'Romance')"
      ]
     },
     "execution_count": 98,
     "metadata": {},
     "output_type": "execute_result"
    }
   ],
   "source": [
    "classify_knn_Counter(dists_MAN,dataset,inX, labels, k) "
   ]
  },
  {
   "cell_type": "code",
   "execution_count": 99,
   "metadata": {},
   "outputs": [
    {
     "name": "stdout",
     "output_type": "stream",
     "text": [
      "[3.0680427226499933, 2.8024367310293203, 1.772473311728637, 2.8438863169310977, 2.453539018695724, 2.2336499161610934]\n"
     ]
    },
    {
     "data": {
      "image/png": "[encoded data removed]",
      "text/plain": [
       "<Figure size 432x288 with 1 Axes>"
      ]
     },
     "metadata": {
      "needs_background": "light"
     },
     "output_type": "display_data"
    },
    {
     "data": {
      "text/plain": [
       "(None, 'Romance')"
      ]
     },
     "execution_count": 99,
     "metadata": {},
     "output_type": "execute_result"
    }
   ],
   "source": [
    "classify_knn_Counter(dists_MAH,dataset,inX, labels, k) "
   ]
  },
  {
   "cell_type": "code",
   "execution_count": 100,
   "metadata": {},
   "outputs": [],
   "source": [
    "# 킥 횟수가 19번, 키스 횟수가 72번인 작품\n",
    "k = 4\n",
    "inX = [19, 72]\n",
    "dists_EUC = Euclidean_Distance(dataset, inX)\n",
    "dists_MAN = Manhattan_Distance(dataset, inX)\n",
    "dists_MAH = Mahalanobis_Distance(dataset, inX)"
   ]
  },
  {
   "cell_type": "code",
   "execution_count": 101,
   "metadata": {},
   "outputs": [
    {
     "name": "stdout",
     "output_type": "stream",
     "text": [
      "[35.77708763999664, 32.7566787083184, 20.12461179749811, 102.80077820717118, 104.35037134576953, 105.55093557141026]\n"
     ]
    },
    {
     "data": {
      "image/png": "[encoded data removed]",
      "text/plain": [
       "<Figure size 432x288 with 1 Axes>"
      ]
     },
     "metadata": {
      "needs_background": "light"
     },
     "output_type": "display_data"
    },
    {
     "name": "stdout",
     "output_type": "stream",
     "text": [
      "[16, 11, 9, 20, 13, 9]\n"
     ]
    },
    {
     "data": {
      "image/png": "[encoded data removed]",
      "text/plain": [
       "<Figure size 432x288 with 1 Axes>"
      ]
     },
     "metadata": {
      "needs_background": "light"
     },
     "output_type": "display_data"
    },
    {
     "name": "stdout",
     "output_type": "stream",
     "text": [
      "[2.058136613024007, 1.5047785478873044, 0.9105203287354701, 2.141372394328008, 1.7031063654392802, 1.5824600601341565]\n"
     ]
    },
    {
     "data": {
      "image/png": "[encoded data removed]",
      "text/plain": [
       "<Figure size 432x288 with 1 Axes>"
      ]
     },
     "metadata": {
      "needs_background": "light"
     },
     "output_type": "display_data"
    },
    {
     "data": {
      "text/plain": [
       "(None, 'Romance')"
      ]
     },
     "execution_count": 101,
     "metadata": {},
     "output_type": "execute_result"
    }
   ],
   "source": [
    "classify_knn(dists_EUC,dataset,inX, labels, k) \n",
    "classify_knn(dists_MAN,dataset,inX, labels, k) \n",
    "classify_knn(dists_MAH,dataset,inX, labels, k) "
   ]
  },
  {
   "cell_type": "code",
   "execution_count": null,
   "metadata": {},
   "outputs": [],
   "source": []
  },
  {
   "cell_type": "code",
   "execution_count": null,
   "metadata": {},
   "outputs": [],
   "source": []
  }
 ],
 "metadata": {
  "colab": {
   "collapsed_sections": [
    "34r66vr2O6Re",
    "UvPQnmcgyKzr",
    "F_ac_F0QO6Rm",
    "KVPGifrHO6Rs",
    "w0DhJX6fO6Rw",
    "GR30sa9BO6R1",
    "h3-sxdSFO6R-",
    "l2xZeidfO6SM",
    "_cqP61PsO6Sf",
    "Jji3drmvO6Sw",
    "ZCgp3cyUO6TD",
    "4swWHPVWO6Tm"
   ],
   "name": "5_Numpy의 주요함수들(2).ipynb",
   "provenance": [],
   "toc_visible": true,
   "version": "0.3.2"
  },
  "kernelspec": {
   "display_name": "Python 3 (ipykernel)",
   "language": "python",
   "name": "python3"
  },
  "language_info": {
   "codemirror_mode": {
    "name": "ipython",
    "version": 3
   },
   "file_extension": ".py",
   "mimetype": "text/x-python",
   "name": "python",
   "nbconvert_exporter": "python",
   "pygments_lexer": "ipython3",
   "version": "3.9.7"
  },
  "toc": {
   "base_numbering": 1,
   "nav_menu": {},
   "number_sections": false,
   "sideBar": true,
   "skip_h1_title": false,
   "title_cell": "Table of Contents",
   "title_sidebar": "Contents",
   "toc_cell": false,
   "toc_position": {},
   "toc_section_display": true,
   "toc_window_display": false
  },
  "varInspector": {
   "cols": {
    "lenName": 16,
    "lenType": 16,
    "lenVar": 40
   },
   "kernels_config": {
    "python": {
     "delete_cmd_postfix": "",
     "delete_cmd_prefix": "del ",
     "library": "var_list.py",
     "varRefreshCmd": "print(var_dic_list())"
    },
    "r": {
     "delete_cmd_postfix": ") ",
     "delete_cmd_prefix": "rm(",
     "library": "var_list.r",
     "varRefreshCmd": "cat(var_dic_list()) "
    }
   },
   "types_to_exclude": [
    "module",
    "function",
    "builtin_function_or_method",
    "instance",
    "_Feature"
   ],
   "window_display": false
  }
 },
 "nbformat": 4,
 "nbformat_minor": 2
}
